{
 "cells": [
  {
   "cell_type": "markdown",
   "metadata": {},
   "source": [
    "This is a .Net interactive notebook.\n",
    "Requires .Net SDK 6.0 + [VSCode extension](https://marketplace.visualstudio.com/items?itemName=ms-dotnettools.dotnet-interactive-vscode)\n",
    "------------------------------------------\n",
    "\n",
    "It's been a long term goal to get Universal Dashboard running on IIS inside a docker image.  I finally had some free time..\n",
    "\n",
    "So some notes on how make this docker image from scratch since it might be a while before I can come back to this!\n",
    "Specifically for the UniversalDashboard + API project, most of this is now handled automatically inside the dockerfile and the finalsteps.ps1 but wanted to record learning steps along the way :)\n",
    "\n",
    "First navigate to a new dir on local machine then pull the base Microsoft server core IIS image"
   ]
  },
  {
   "cell_type": "code",
   "execution_count": null,
   "metadata": {
    "dotnet_interactive": {
     "language": "pwsh"
    }
   },
   "outputs": [],
   "source": [
    "docker pull mcr.microsoft.com/windows/servercore/iis"
   ]
  },
  {
   "cell_type": "markdown",
   "metadata": {},
   "source": [
    "then launch a container from the image in interactive mode:"
   ]
  },
  {
   "cell_type": "code",
   "execution_count": null,
   "metadata": {
    "dotnet_interactive": {
     "language": "pwsh"
    }
   },
   "outputs": [],
   "source": [
    "docker run -it mcr.microsoft.com/windows/servercore/iis"
   ]
  },
  {
   "cell_type": "markdown",
   "metadata": {},
   "source": [
    "Make any desired manual changes inside the container.\n",
    "Next exit the container but leave it running by pressing: CTRL + P + Q\n",
    "\n",
    "When you have exited from the running container, you need to grab the container ID."
   ]
  },
  {
   "cell_type": "code",
   "execution_count": null,
   "metadata": {
    "dotnet_interactive": {
     "language": "pwsh"
    }
   },
   "outputs": [],
   "source": [
    "\n",
    "docker ps"
   ]
  },
  {
   "cell_type": "markdown",
   "metadata": {},
   "source": [
    "Next used the derived container ID to stop the running container"
   ]
  },
  {
   "cell_type": "code",
   "execution_count": null,
   "metadata": {
    "dotnet_interactive": {
     "language": "pwsh"
    }
   },
   "outputs": [],
   "source": [
    "docker stop <containerID>"
   ]
  },
  {
   "cell_type": "markdown",
   "metadata": {},
   "source": [
    "\n",
    "Come up with a meaningful new image name, then commit the changes that you made inside the container back to your local docker repository inside a new image\n",
    "For this project I have used iis-ud-and-api"
   ]
  },
  {
   "cell_type": "code",
   "execution_count": null,
   "metadata": {
    "dotnet_interactive": {
     "language": "pwsh"
    }
   },
   "outputs": [],
   "source": [
    "docker commit [CONTAINER_ID] iis-ud-and-api"
   ]
  },
  {
   "cell_type": "markdown",
   "metadata": {},
   "source": [
    "\n",
    "The new image is now saved with the changes made inside the container.\n",
    "In a default Windows installation, docker image layers are stored in C:\\ProgramData\\docker and split across the \"image\" and \"windowsfilter\" directories.\n",
    "\n",
    "Right now, this image only has changes that were made interactively inside the container, but it's likely that you will also want to include files from outside to be copied into the container.\n",
    "\n",
    "Do this using the DOCKERFILE in the root of the directory.\n",
    "See [dockerfile reference](https://docs.docker.com/engine/reference/builder/) for available commands.\n",
    "\n",
    "Quick explanation of some DOCKERFILE commands:\n",
    "----------------------------------------------\n",
    "FROM mcr.microsoft.com/windows/servercore/iis  <-- specifies a base image that we have based this project on\n",
    "WORKDIR <path>  <-- this sets the path inside the container\n",
    "COPY <path_on_host> <container_path> <-- this copies from the host machine into the container during build\n",
    "SHELL [\"powershell\", \"-command\"] <-- by setting SHELL, subsequent commands in the DOCKERFILE will execute as PowerShell\n",
    "RUN Install-WindowsFeature -name Web-WebSockets  <-- RUN kicks off a PowerShell command because we set SHELL above\n",
    "etc etc...\n",
    "\n",
    "Once you have the file structure in place in your project root dir on the host machine and you have the dockerfile commands ready, make sure you are in the root of the project dir and then run:"
   ]
  },
  {
   "cell_type": "code",
   "execution_count": null,
   "metadata": {
    "dotnet_interactive": {
     "language": "pwsh"
    }
   },
   "outputs": [],
   "source": [
    "docker build -t iis-ud-and-api ."
   ]
  },
  {
   "cell_type": "markdown",
   "metadata": {},
   "source": [
    "\n",
    "docker build reads the instructions in the DOCKERFILE to create a new image with the name specified\n",
    "When the build completes, you can launch a container instance based on the underlying the image by running the following:\n",
    "\n",
    "--entrypoint powershell <-- since based on base image (mcr.microsoft.com/windows/servercore/iis) where the entrypoint is ServiceMontior.exe, we need this to be able to run PS commands interactively.\n",
    "-it <-- container runs in interactive mode.  Replace this with -d when set up is completely finished so container runs detached in background.\n",
    "--dns 1.1.1.1 <-- this allows the container to connect to the Internet (can be removed when no longer needed)\n",
    "-p 8000:80 <-- exposes port 80 from the image as port 8000 on local host for the dashboard\n",
    "-p 9000:8080 <-- exposes port 8080 from the image as port 9000 on local host for the UD API\n",
    "--name <a_new_random_name> <-- container must be assigned a unique name"
   ]
  },
  {
   "cell_type": "code",
   "execution_count": null,
   "metadata": {
    "dotnet_interactive": {
     "language": "pwsh"
    }
   },
   "outputs": [],
   "source": [
    "$containerName = \"daily_docker\" #this has to be unique for each new container instance otherwise will error!\n",
    "docker run --entrypoint powershell -it --dns 1.1.1.1 -p 8000:80 -p 9000:8080 --name $containerName iis-ud-and-api"
   ]
  },
  {
   "cell_type": "markdown",
   "metadata": {},
   "source": [
    "\n",
    "When everything is working and ready to push to docker hub, you need to tag the image locally to make a connection between the local repo and dockerhub\n",
    "In this case my dockerhub userID is: bayranshade and the repository on docker hub is simply called universaldashboard"
   ]
  },
  {
   "cell_type": "code",
   "execution_count": null,
   "metadata": {
    "dotnet_interactive": {
     "language": "csharp"
    }
   },
   "outputs": [],
   "source": [
    "docker tag iis-ud-and-api bayranshade/universaldashboard:latest"
   ]
  },
  {
   "cell_type": "markdown",
   "metadata": {},
   "source": [
    "To publish the image push it up to docker hub"
   ]
  },
  {
   "cell_type": "code",
   "execution_count": null,
   "metadata": {
    "dotnet_interactive": {
     "language": "csharp"
    }
   },
   "outputs": [],
   "source": [
    "\n",
    "docker push bayranshade/universaldashboard:latest"
   ]
  },
  {
   "cell_type": "markdown",
   "metadata": {},
   "source": [
    "Now the image you created with all the preconfigured changes is available for anyone to pull to their machine with the following command:"
   ]
  },
  {
   "cell_type": "code",
   "execution_count": null,
   "metadata": {
    "dotnet_interactive": {
     "language": "pwsh"
    }
   },
   "outputs": [],
   "source": [
    "docker pull bayranshade/universaldashboard:latest"
   ]
  },
  {
   "cell_type": "markdown",
   "metadata": {},
   "source": [
    "Once the image is running change the dashboard tile by sending diffent types of car as a post..\n",
    "While autorefresh is not configured a refresh of the browser will then show the change\n",
    "\n",
    "Adjust the PSCustom object below so the car is (a highly aspirational!) BMW, Ferarri, or Mercedes to see the tile change."
   ]
  },
  {
   "cell_type": "code",
   "execution_count": null,
   "metadata": {
    "dotnet_interactive": {
     "language": "pwsh"
    }
   },
   "outputs": [],
   "source": [
    "$body = [PSCustomObject]@{Car = \"BMW\" } | ConvertTo-Json\n",
    "Invoke-RestMethod -Uri 'http://localhost:9000/api/car' -Method Post -Body $body"
   ]
  },
  {
   "cell_type": "markdown",
   "metadata": {},
   "source": [
    "Example screen grabs after an update to the API\n",
    "\n",
    "- [BMW](images/BMW.png)\n",
    "- [Ferarri](images/Ferarri.png)"
   ]
  },
  {
   "cell_type": "markdown",
   "metadata": {},
   "source": [
    "Some useful links that helped during this project:\n",
    "\n",
    "- https://docs.universaldashboard.io/webserver/running-dashboards/iis\n",
    "- https://stefanstranger.github.io/2018/10/02/RunningUniversalDashboardinALinuxDockerContainer/\n",
    "- https://stefanstranger.github.io/2018/10/03/RunningUniversalDashboardContainerInwebAppForContainers/index.html#disqus_thread"
   ]
  }
 ],
 "metadata": {
  "kernelspec": {
   "display_name": ".NET (C#)",
   "language": "C#",
   "name": ".net-csharp"
  },
  "language_info": {
   "file_extension": ".cs",
   "mimetype": "text/x-csharp",
   "name": "C#",
   "pygments_lexer": "csharp",
   "version": "9.0"
  },
  "orig_nbformat": 4
 },
 "nbformat": 4,
 "nbformat_minor": 2
}
